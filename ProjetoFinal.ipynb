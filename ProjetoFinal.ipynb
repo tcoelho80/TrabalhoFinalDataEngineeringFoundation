{
 "cells": [
  {
   "cell_type": "markdown",
   "metadata": {},
   "source": [
    "## Carregando dados no spark"
   ]
  },
  {
   "cell_type": "code",
   "execution_count": 19,
   "metadata": {},
   "outputs": [
    {
     "name": "stdout",
     "output_type": "stream",
     "text": [
      "+------------------+-----------------+-----------+--------+--------------+---------------+----+---------------+-------------+-----+----------+---------------------+---------------------+----------------+---------------------+--------------------+--------+----------+\n",
      "|       num_boletim|data_hora_boletim|n_envolvido|condutor|cod_severidade|desc_severidade|sexo|cinto_seguranca|   Embreagues|Idade|nascimento|categoria_habilitacao|descricao_habilitacao|declaracao_obito|cod_severidade_antiga|     especie_veiculo|pedestre|passageiro|\n",
      "+------------------+-----------------+-----------+--------+--------------+---------------+----+---------------+-------------+-----+----------+---------------------+---------------------+----------------+---------------------+--------------------+--------+----------+\n",
      "|2019-007782522-001| 18/02/2019 19:24|          2|       S|             1|NAO FATAL      |   M|            SIM|          NÃO|   32|02/05/1986|                  AB | HABILITADO NAS CA...|               0|                    0|MOTOCICLETA      ...|       N|         N|\n",
      "|2019-007785539-001| 18/02/2019 19:53|          1|       S|             3|SEM FERIMENTOS |   M|            SIM|          NÃO|   30|25/11/1988|                  AB | HABILITADO NAS CA...|               0|                    0|AUTOMOVEL        ...|       N|         N|\n",
      "|2019-007785539-001| 18/02/2019 19:53|          2|       N|             1|NAO FATAL      |   F|            SIM|          NÃO|   20|18/02/1999|                     |                  ...|               0|                    0|AUTOMOVEL        ...|       N|         S|\n",
      "|2019-007785539-001| 18/02/2019 19:53|          3|       S|             3|SEM FERIMENTOS |   F|            SIM|          NÃO|   20|17/08/1998|                  N  | NAO INFORMADO    ...|               0|                    0|AUTOMOVEL        ...|       N|         N|\n",
      "|2019-007796448-001| 18/02/2019 21:16|          1|       S|             1|NAO FATAL      |   M|            SIM|          NÃO|   37|23/11/1981|                  AB | HABILITADO NAS CA...|               0|                    0|MOTOCICLETA      ...|       N|         N|\n",
      "|2019-007796448-001| 18/02/2019 21:16|          2|       S|             3|SEM FERIMENTOS |   M|            SIM|          NÃO|   55|27/07/1963|                  B  | VEICULOS MOTOR. C...|               0|                    0|AUTOMOVEL        ...|       N|         N|\n",
      "|2019-007819262-001| 19/02/2019 01:30|          1|       S|             1|NAO FATAL      |   M|            SIM|          NÃO|   25|31/05/1993|                  IN | INABILITADO      ...|               0|                    0|AUTOMOVEL        ...|       N|         N|\n",
      "|2019-007831003-001| 19/02/2019 07:00|          1|       S|             3|SEM FERIMENTOS |   M|            SIM|          NÃO|   47|16/04/1971|                  B  | VEICULOS MOTOR. C...|               0|                    0|AUTOMOVEL        ...|       N|         N|\n",
      "|2019-007831003-001| 19/02/2019 07:00|          2|       S|             1|NAO FATAL      |   M|            SIM|          NÃO|   20|16/08/1998|                  A  | VEï¿½CULO MOTORIZ...|               0|                    0|MOTOCICLETA      ...|       N|         N|\n",
      "|2019-007831003-001| 19/02/2019 07:00|          3|       N|             3|SEM FERIMENTOS |   M|            SIM|          NÃO|   20|19/04/1998|                     |                  ...|               0|                    0|MOTOCICLETA      ...|       N|         S|\n",
      "|2019-007833121-001| 19/02/2019 06:56|          1|       S|             1|NAO FATAL      |   M|            SIM|          NÃO|   35|19/04/1983|                  AB | HABILITADO NAS CA...|               0|                    0|MOTOCICLETA      ...|       N|         N|\n",
      "|2019-007833121-001| 19/02/2019 06:56|          2|       S|             3|SEM FERIMENTOS |   M|            SIM|          NÃO|   59|16/09/1959|                  D  | VEIC. MOTOR. P/ T...|               0|                    0|AUTOMOVEL        ...|       N|         N|\n",
      "|2019-007833344-001| 19/02/2019 07:12|          1|       S|             3|SEM FERIMENTOS |   F|            SIM|          NÃO|   53|05/09/1965|                  B  | VEICULOS MOTOR. C...|               0|                    0|AUTOMOVEL        ...|       N|         N|\n",
      "|2019-007833344-001| 19/02/2019 07:12|          2|       S|             1|NAO FATAL      |   M|            NÃO|NÃO INFORMADO|    0|00/00/0000|                  N  | NAO INFORMADO    ...|               0|                    0|MOTOCICLETA      ...|    null|      null|\n",
      "|2019-007834678-001| 19/02/2019 08:04|          1|       S|             3|SEM FERIMENTOS |   M|            SIM|          NÃO|   28|23/02/1990|                  B  | VEICULOS MOTOR. C...|               0|                    0|AUTOMOVEL        ...|       N|         N|\n",
      "|2019-007834678-001| 19/02/2019 08:04|          2|       S|             1|NAO FATAL      |   M|            SIM|          NÃO|   38|29/12/1980|                  AB | HABILITADO NAS CA...|               0|                    0|MOTOCICLETA      ...|       N|         N|\n",
      "|2019-007845050-001| 19/02/2019 08:42|          1|       S|             3|SEM FERIMENTOS |   F|            SIM|          NÃO|   28|26/02/1990|                  B  | VEICULOS MOTOR. C...|               0|                    0|AUTOMOVEL        ...|       N|         N|\n",
      "|2019-007845050-001| 19/02/2019 08:42|          2|       S|             1|NAO FATAL      |   M|            SIM|          NÃO|   44|25/10/1974|                  AB | HABILITADO NAS CA...|               0|                    0|MOTOCICLETA      ...|       N|         N|\n",
      "|2019-007846854-001| 19/02/2019 08:51|          1|       S|             1|NAO FATAL      |   M|            SIM|          NÃO|   24|19/03/1994|                  AB | HABILITADO NAS CA...|               0|                    0|MOTOCICLETA      ...|       N|         N|\n",
      "|2019-007846854-001| 19/02/2019 08:51|          2|       S|             3|SEM FERIMENTOS |   M|            SIM|          NÃO|   65|21/02/1953|                  B  | VEICULOS MOTOR. C...|               0|                    0|AUTOMOVEL        ...|       N|         N|\n",
      "+------------------+-----------------+-----------+--------+--------------+---------------+----+---------------+-------------+-----+----------+---------------------+---------------------+----------------+---------------------+--------------------+--------+----------+\n",
      "only showing top 20 rows\n",
      "\n",
      "+------------------+-----------------+----------------+-------------+--------------------+---------+---------------+-------------+---------------+------------+---------------+---------------+----------------+--------------------+-------------+-------------+--------------+--------------------+---------+-------------+-------------------+----------------+--------------------+\n",
      "|       num_boletim|DATA HORA_BOLETIM|   DATA_INCLUSAO|TIPO_ACIDENTE|  DESC_TIPO_ACIDENTE|COD_TEMPO|     DESC_TEMPO|COD_PAVIMENTO|      PAVIMENTO|COD_REGIONAL|  DESC_REGIONAL| ORIGEM_BOLETIM|LOCAL_SINALIZADO|VELOCIDADE_PERMITIDA| COORDENADA_X| COORDENADA_Y|HORA_INFORMADA|INDICADOR_FATALIDADE|VALOR_UPS|DESCRIÇÃO_UPS|DATA_ALTERACAO_SMSA|VALOR_UPS_ANTIGA|DESCRIÇÃO_UPS_ANTIGA|\n",
      "+------------------+-----------------+----------------+-------------+--------------------+---------+---------------+-------------+---------------+------------+---------------+---------------+----------------+--------------------+-------------+-------------+--------------+--------------------+---------+-------------+-------------------+----------------+--------------------+\n",
      "|2019-000009538-001| 01/01/2019 01:40|01/01/2019 02:31|       H01002|ABALROAMENTO COM ...|        1|BOM            |            1|ASFALTO        |          19|CENTRO-SUL     |POLICIA MILITAR|           Nï¿½O|                   0|0000611366.53|0007795449.66|           SIM|               Nï¿½O|        0|NÃO INFORMADO|         00/00/0000|               0|       NÃO INFORMADO|\n",
      "|2019-000011370-001| 01/01/2019 02:46|01/01/2019 07:25|       H06002|ATROPELAMENTO DE ...|        0|NAO INFORMADO  |            0|NAO INFORMADO  |          25|PAMPULHA       |POLICIA MILITAR|           Nï¿½O|                   0|0000608296.30|0007804869.40|           SIM|               Nï¿½O|        0|NÃO INFORMADO|         00/00/0000|               0|       NÃO INFORMADO|\n",
      "|2019-000013510-001| 01/01/2019 02:19|01/01/2019 03:24|       H01002|ABALROAMENTO COM ...|        0|NAO INFORMADO  |            0|NAO INFORMADO  |          19|CENTRO-SUL     |POLICIA MILITAR|           Nï¿½O|                   0|0000611684.46|0007796235.17|           SIM|               Nï¿½O|        0|NÃO INFORMADO|         00/00/0000|               0|       NÃO INFORMADO|\n",
      "|2019-000017471-001| 01/01/2019 03:18|01/01/2019 04:25|       H01002|ABALROAMENTO COM ...|        0|NAO INFORMADO  |            0|NAO INFORMADO  |          20|LESTE          |POLICIA MILITAR|           Nï¿½O|                   0|0000614254.84|0007796496.29|           SIM|               Nï¿½O|        0|NÃO INFORMADO|         00/00/0000|               0|       NÃO INFORMADO|\n",
      "|2019-000020120-001| 01/01/2019 04:26|01/01/2019 05:06|       H01002|ABALROAMENTO COM ...|        4|NUBLADO        |            1|ASFALTO        |          20|LESTE          |POLICIA MILITAR|           Nï¿½O|                   0|0000612733.57|0007799405.68|           SIM|               Nï¿½O|        0|NÃO INFORMADO|         00/00/0000|               0|       NÃO INFORMADO|\n",
      "|2019-000028233-001| 01/01/2019 07:12|01/01/2019 08:00|       H08002|CHOQUE MECANICO C...|        2|CHUVA          |            1|ASFALTO        |          23|NORTE          |POLICIA MILITAR|           Nï¿½O|                   0|0000611707.91|0007803517.80|           SIM|               Nï¿½O|        0|NÃO INFORMADO|         00/00/0000|               0|       NÃO INFORMADO|\n",
      "|2019-000030323-001| 01/01/2019 02:00|01/01/2019 08:46|       H01002|ABALROAMENTO COM ...|        2|CHUVA          |            1|ASFALTO        |          18|BARREIRO       |POLICIA MILITAR|           Nï¿½O|                   0|0000603620.24|0007787305.95|           SIM|               Nï¿½O|        0|NÃO INFORMADO|         00/00/0000|               0|       NÃO INFORMADO|\n",
      "|2019-000030611-001| 01/01/2019 06:30|01/01/2019 08:51|       H01002|ABALROAMENTO COM ...|        0|NAO INFORMADO  |            0|NAO INFORMADO  |          22|NOROESTE       |POLICIA MILITAR|           Nï¿½O|                   0|0000607441.02|0007797479.90|           SIM|               Nï¿½O|        0|NÃO INFORMADO|         00/00/0000|               0|       NÃO INFORMADO|\n",
      "|2019-000033132-001| 01/01/2019 08:17|01/01/2019 09:47|       H08002|CHOQUE MECANICO C...|        0|NAO INFORMADO  |            0|NAO INFORMADO  |          22|NOROESTE       |POLICIA MILITAR|           Nï¿½O|                   0|0000608450.35|0007797938.04|           SIM|               Nï¿½O|        0|NÃO INFORMADO|         00/00/0000|               0|       NÃO INFORMADO|\n",
      "|2019-000042096-001| 01/01/2019 11:11|01/01/2019 12:22|       H08002|CHOQUE MECANICO C...|        0|NAO INFORMADO  |            0|NAO INFORMADO  |          18|BARREIRO       |POLICIA MILITAR|           Nï¿½O|                   0|0000603117.00|0007789361.29|           SIM|               Nï¿½O|        0|NÃO INFORMADO|         00/00/0000|               0|       NÃO INFORMADO|\n",
      "|2019-000068523-001| 01/01/2019 16:56|01/01/2019 17:34|       H01002|ABALROAMENTO COM ...|        1|BOM            |            1|ASFALTO        |          22|NOROESTE       |POLICIA MILITAR|           Nï¿½O|                   0|0000609447.12|0007800419.29|           SIM|               Nï¿½O|        0|NÃO INFORMADO|         00/00/0000|               0|       NÃO INFORMADO|\n",
      "|2019-000078033-001| 01/01/2019 18:09|01/01/2019 19:02|       H01002|ABALROAMENTO COM ...|        1|BOM            |            1|ASFALTO        |          19|CENTRO-SUL     |POLICIA MILITAR|           Nï¿½O|                   0|0000611086.36|0007797118.61|           SIM|               Nï¿½O|        0|NÃO INFORMADO|         00/00/0000|               0|       NÃO INFORMADO|\n",
      "|2019-000080688-001| 01/01/2019 18:47|01/01/2019 19:27|       H08002|CHOQUE MECANICO C...|        1|BOM            |            1|ASFALTO        |          24|OESTE          |POLICIA MILITAR|           Nï¿½O|                   0|0000604768.27|0007795070.34|           SIM|               Nï¿½O|        0|NÃO INFORMADO|         00/00/0000|               0|       NÃO INFORMADO|\n",
      "|2019-000084238-001| 01/01/2019 19:12|01/01/2019 20:04|       H04000|QUEDA DE PESSOA D...|        1|BOM            |            1|ASFALTO        |          18|BARREIRO       |POLICIA MILITAR|           Nï¿½O|                   0|0000600959.75|0007789205.25|           SIM|               Nï¿½O|        0|NÃO INFORMADO|         00/00/0000|               0|       NÃO INFORMADO|\n",
      "|2019-000091803-001| 01/01/2019 20:29|01/01/2019 21:30|       H01002|ABALROAMENTO COM ...|        1|BOM            |            1|ASFALTO        |          26|VENDA NOVA     |POLICIA MILITAR|           Nï¿½O|                   0|0000609682.42|0007809885.36|           SIM|               Nï¿½O|        0|NÃO INFORMADO|         00/00/0000|               0|       NÃO INFORMADO|\n",
      "|2019-000096546-001| 01/01/2019 21:10|01/01/2019 22:15|       H06002|ATROPELAMENTO DE ...|        0|NAO INFORMADO  |            0|NAO INFORMADO  |          21|NORDESTE       |POLICIA MILITAR|           Nï¿½O|                   0|0000616705.34|0007804640.18|           SIM|               Nï¿½O|        0|NÃO INFORMADO|         00/00/0000|               0|       NÃO INFORMADO|\n",
      "|2019-000100286-001| 01/01/2019 22:30|01/01/2019 22:49|       H01002|ABALROAMENTO COM ...|        1|BOM            |            1|ASFALTO        |           0|               |POLICIA MILITAR|           Nï¿½O|                   0|0000000000.00|0000000000.00|           SIM|               Nï¿½O|        0|NÃO INFORMADO|         00/00/0000|               0|       NÃO INFORMADO|\n",
      "|2019-000123419-001| 02/01/2019 05:39|02/01/2019 07:04|       H09002|COLISAO DE VEICUL...|        1|BOM            |            1|ASFALTO        |          24|OESTE          |POLICIA MILITAR|           Nï¿½O|                   0|0000000000.00|0000000000.00|           SIM|               Nï¿½O|        0|NÃO INFORMADO|         00/00/0000|               0|       NÃO INFORMADO|\n",
      "|2019-000123960-001| 02/01/2019 06:08|02/01/2019 07:15|       H08002|CHOQUE MECANICO C...|        1|BOM            |            1|ASFALTO        |          25|PAMPULHA       |POLICIA MILITAR|           Nï¿½O|                   0|0000606467.74|0007806037.96|           SIM|               Nï¿½O|        0|NÃO INFORMADO|         00/00/0000|               0|       NÃO INFORMADO|\n",
      "|2019-000127523-001| 02/01/2019 07:52|02/01/2019 08:20|       H08002|CHOQUE MECANICO C...|        0|NAO INFORMADO  |            0|NAO INFORMADO  |          21|NORDESTE       |POLICIA MILITAR|           Nï¿½O|                   0|0000609907.21|0007799966.24|           SIM|               Nï¿½O|        0|NÃO INFORMADO|         00/00/0000|               0|       NÃO INFORMADO|\n",
      "+------------------+-----------------+----------------+-------------+--------------------+---------+---------------+-------------+---------------+------------+---------------+---------------+----------------+--------------------+-------------+-------------+--------------+--------------------+---------+-------------+-------------------+----------------+--------------------+\n",
      "only showing top 20 rows\n",
      "\n"
     ]
    },
    {
     "name": "stdout",
     "output_type": "stream",
     "text": [
      "+------------------+----------------+------------+--------------------+---------------+-------------+---------------+--------------------+------------------------+------------------------+---------+--------------------+-----------+---------------------+---------+-----------------+\n",
      "|       num_boletim|    data_boletim|N°_municipio|      nome_municipio|seq_logradouros|N°_logradouro|tipo_logradouro|     nome_logradouro|tipo_logradouro_anterior|nome_logradouro_anterior|N°_bairro|         nome_bairro|tipo_bairro|descricao_tipo_bairro|N°_imovel|N°_imovel_proximo|\n",
      "+------------------+----------------+------------+--------------------+---------------+-------------+---------------+--------------------+------------------------+------------------------+---------+--------------------+-----------+---------------------+---------+-----------------+\n",
      "|2019-049379035-001|09/10/2019 06:46|           1|BELO HORIZONTE   ...|              1|       117712|            RUA|JOAO ARANTES     ...|                     RUA|    CINQUENTA E UM   ...|      645|CIDADE NOVA      ...|         B | BAIRRO           ...|        0|                0|\n",
      "|2019-054073526-001|04/11/2019 06:19|           1|BELO HORIZONTE   ...|              1|       116606|            RUA|SUDAO            ...|                     RUA|    UM               ...|      634|CANAA            ...|         B | BAIRRO           ...|      234|                0|\n",
      "|2019-001886486-001|13/01/2019 16:11|           1|BELO HORIZONTE   ...|              2|       116791|            RUA|MARIA VAZ DE MELO...|                     RUA|    TRES             ...|      662|DONA CLARA       ...|         B | BAIRRO           ...|        0|                0|\n",
      "|2019-011110287-001|10/03/2019 00:37|           1|BELO HORIZONTE   ...|              1|       116892|            RUA|AGENOR JOSE DOS A...|                     RUA|    F                ...|      763|SANTA CRUZ       ...|         B | BAIRRO           ...|        0|                0|\n",
      "|2019-003120207-001|21/01/2019 12:00|           1|BELO HORIZONTE   ...|              1|       117044|            RUA|CONTORNO         ...|                     RUA|    DO CONTORNO      ...|      684|GLORIA           ...|         B | BAIRRO           ...|        0|                0|\n",
      "|2019-049508784-001|09/10/2019 17:46|           1|BELO HORIZONTE   ...|              2|       117044|            RUA|CONTORNO         ...|                     RUA|    DO CONTORNO      ...|      617|BARRO PRETO      ...|         B | BAIRRO           ...|        0|                0|\n",
      "|2019-027334450-001|10/06/2019 16:26|           1|BELO HORIZONTE   ...|              1|       117044|            RUA|CONTORNO         ...|                     RUA|    DO CONTORNO      ...|      740|PALMARES         ...|         B | BAIRRO           ...|      179|                0|\n",
      "|2019-005623066-001|05/02/2019 17:42|           1|BELO HORIZONTE   ...|              2|       117044|            RUA|CONTORNO         ...|                     RUA|    DO CONTORNO      ...|      740|PALMARES         ...|         B | BAIRRO           ...|        0|                0|\n",
      "|2019-005623066-001|05/02/2019 17:42|           1|BELO HORIZONTE   ...|              1|       117057|            RUA|JORGE ANGEL LIVRA...|                     RUA|    TRINTA E DOIS    ...|      740|PALMARES         ...|         B | BAIRRO           ...|        0|                0|\n",
      "|2019-028097298-001|14/06/2019 13:46|           1|BELO HORIZONTE   ...|              2|       116054|            RUA|DOUTOR JOAO MIRAN...|                     RUA|    QUARENTA E QUATRO...|      662|DONA CLARA       ...|         B | BAIRRO           ...|        0|                0|\n",
      "|2019-005418779-001|04/02/2019 09:05|           1|BELO HORIZONTE   ...|              2|       116054|            RUA|DOUTOR JOAO MIRAN...|                     RUA|    QUARENTA E QUATRO...|      662|DONA CLARA       ...|         B | BAIRRO           ...|        0|                0|\n",
      "|2019-015936846-001|06/04/2019 15:12|           1|BELO HORIZONTE   ...|              2|       116054|            RUA|DOUTOR JOAO MIRAN...|                     RUA|    QUARENTA E QUATRO...|      662|DONA CLARA       ...|         B | BAIRRO           ...|        6|                0|\n",
      "|2019-019386950-001|24/04/2019 12:20|           1|BELO HORIZONTE   ...|              1|       116101|            AVE|SEBASTIAO DE BRIT...|                     AVE|    UM               ...|      773|SANTA ROSA       ...|         B | BAIRRO           ...|      300|                0|\n",
      "|2019-019549510-002|27/04/2019 03:33|           1|BELO HORIZONTE   ...|              2|       116101|            AVE|SEBASTIAO DE BRIT...|                     AVE|    UM               ...|      773|SANTA ROSA       ...|         B | BAIRRO           ...|        0|                0|\n",
      "|2019-019942463-001|29/04/2019 17:08|           1|BELO HORIZONTE   ...|              1|       116101|            AVE|SEBASTIAO DE BRIT...|                     AVE|    UM               ...|      773|SANTA ROSA       ...|         B | BAIRRO           ...|      388|                0|\n",
      "|2019-001308815-001|09/01/2019 18:42|           1|BELO HORIZONTE   ...|              2|       116101|            AVE|SEBASTIAO DE BRIT...|                     AVE|    UM               ...|      773|SANTA ROSA       ...|         B | BAIRRO           ...|        0|                0|\n",
      "|2019-001886486-001|13/01/2019 16:11|           1|BELO HORIZONTE   ...|              1|       116101|            AVE|SEBASTIAO DE BRIT...|                     AVE|    UM               ...|      773|SANTA ROSA       ...|         B | BAIRRO           ...|        0|                0|\n",
      "|2019-057942446-001|25/11/2019 14:23|           1|BELO HORIZONTE   ...|              1|       116101|            AVE|SEBASTIAO DE BRIT...|                     AVE|    UM               ...|      773|SANTA ROSA       ...|         B | BAIRRO           ...|        0|                0|\n",
      "|2019-052215258-001|23/10/2019 17:40|           1|BELO HORIZONTE   ...|              1|       116101|            AVE|SEBASTIAO DE BRIT...|                     AVE|    UM               ...|      773|SANTA ROSA       ...|         B | BAIRRO           ...|      300|                0|\n",
      "|2020-001018081-001|04/11/2019 16:00|           1|BELO HORIZONTE   ...|              1|       116101|            AVE|SEBASTIAO DE BRIT...|                     AVE|    UM               ...|      773|SANTA ROSA       ...|         B | BAIRRO           ...|      100|                0|\n",
      "+------------------+----------------+------------+--------------------+---------------+-------------+---------------+--------------------+------------------------+------------------------+---------+--------------------+-----------+---------------------+---------+-----------------+\n",
      "only showing top 20 rows\n",
      "\n"
     ]
    }
   ],
   "source": [
    "#Criar pastas no HDFS\n",
    "#hdfs dfs -mkdir -p  /user/vagrant/dados/si_env-2019/\n",
    "#hdfs dfs -mkdir -p  /user/vagrant/dados/si_log-2019/\n",
    "#hdfs dfs -mkdir -p  /user/vagrant/dados/si_bol-2019/\n",
    "\n",
    "#Copiar arquivos para o HDFS\n",
    "#hdfs dfs -put -f  /vagrant/TarefaFinalV2/si_env-2019.csv /user/vagrant/dados/si_env-2019/\n",
    "#hdfs dfs -put -f  /vagrant/TarefaFinalV2/si_bol-2019.csv /user/vagrant/dados/si_bol-2019/\n",
    "#hdfs dfs -put -f  /vagrant/TarefaFinalV2/si_log-2019.csv /user/vagrant/dados/si_log-2019/\n",
    "\n",
    "# carregando arquivos do hdfs\n",
    "df_si_env = spark.read.csv(\"hdfs://node1:8020//user/vagrant/dados/si_env-2019/si_env-2019.csv\", sep=';', header=True, encoding = 'latin1')\n",
    "df_si_bol = spark.read.csv(\"hdfs://node1:8020//user/vagrant/dados/si_bol-2019/si_bol-2019.csv\", sep=';', header=True, encoding = 'latin1')\n",
    "df_si_log = spark.read.csv(\"hdfs://node1:8020//user/vagrant/dados/si_log-2019/si_log-2019.csv\", sep=';', header=True, encoding = 'latin1')\n",
    "df_si_env.show()\n",
    "df_si_bol.show()\n",
    "df_si_log.show()"
   ]
  },
  {
   "cell_type": "markdown",
   "metadata": {},
   "source": [
    "## Selecionando colunas"
   ]
  },
  {
   "cell_type": "code",
   "execution_count": 21,
   "metadata": {
    "scrolled": true
   },
   "outputs": [
    {
     "name": "stdout",
     "output_type": "stream",
     "text": [
      "+------------------+-----------------+-----------+--------+--------------+---------------+----+---------------+-------------+-----+----------+---------------------+---------------------+----------------+---------------------+--------------------+--------+----------+-----------------+----------------+-------------+--------------------+---------+---------------+-------------+---------------+------------+---------------+---------------+----------------+--------------------+-------------+-------------+--------------+--------------------+---------+-------------+-------------------+----------------+--------------------+----------------+------------+--------------------+---------------+-------------+---------------+--------------------+------------------------+------------------------+---------+--------------------+-----------+---------------------+---------+-----------------+\n",
      "|       num_boletim|data_hora_boletim|n_envolvido|condutor|cod_severidade|desc_severidade|sexo|cinto_seguranca|   Embreagues|Idade|nascimento|categoria_habilitacao|descricao_habilitacao|declaracao_obito|cod_severidade_antiga|     especie_veiculo|pedestre|passageiro|DATA HORA_BOLETIM|   DATA_INCLUSAO|TIPO_ACIDENTE|  DESC_TIPO_ACIDENTE|COD_TEMPO|     DESC_TEMPO|COD_PAVIMENTO|      PAVIMENTO|COD_REGIONAL|  DESC_REGIONAL| ORIGEM_BOLETIM|LOCAL_SINALIZADO|VELOCIDADE_PERMITIDA| COORDENADA_X| COORDENADA_Y|HORA_INFORMADA|INDICADOR_FATALIDADE|VALOR_UPS|DESCRIÇÃO_UPS|DATA_ALTERACAO_SMSA|VALOR_UPS_ANTIGA|DESCRIÇÃO_UPS_ANTIGA|    data_boletim|N°_municipio|      nome_municipio|seq_logradouros|N°_logradouro|tipo_logradouro|     nome_logradouro|tipo_logradouro_anterior|nome_logradouro_anterior|N°_bairro|         nome_bairro|tipo_bairro|descricao_tipo_bairro|N°_imovel|N°_imovel_proximo|\n",
      "+------------------+-----------------+-----------+--------+--------------+---------------+----+---------------+-------------+-----+----------+---------------------+---------------------+----------------+---------------------+--------------------+--------+----------+-----------------+----------------+-------------+--------------------+---------+---------------+-------------+---------------+------------+---------------+---------------+----------------+--------------------+-------------+-------------+--------------+--------------------+---------+-------------+-------------------+----------------+--------------------+----------------+------------+--------------------+---------------+-------------+---------------+--------------------+------------------------+------------------------+---------+--------------------+-----------+---------------------+---------+-----------------+\n",
      "|2019-001380210-001| 10/01/2019 08:29|          1|       S|             1|NAO FATAL      |   F|            SIM|          NÃO|   26|25/12/1992|                  AB | HABILITADO NAS CA...|               0|                    0|MOTOCICLETA      ...|       N|         N| 10/01/2019 08:29|10/01/2019 09:22|       H09002|COLISAO DE VEICUL...|        1|BOM            |            1|ASFALTO        |          25|PAMPULHA       |POLICIA MILITAR|           Nï¿½O|                   0|0000605088.50|0007805195.43|           SIM|               Nï¿½O|        0|NÃO INFORMADO|         00/00/0000|               0|       NÃO INFORMADO|10/01/2019 08:29|           1|BELO HORIZONTE   ...|              1|        50566|            AVE|OTACILIO NEGRAO D...|                     AVE|    PAMPULHA         ...|      807|GARCAS           ...|         B | BAIRRO           ...|    12040|                0|\n",
      "|2019-001380210-001| 10/01/2019 08:29|          2|       S|             3|SEM FERIMENTOS |   M|            SIM|          NÃO|   41|27/07/1977|                  AD | HABILITADO NAS CA...|               0|                    0|CAMINHAO         ...|       N|         N| 10/01/2019 08:29|10/01/2019 09:22|       H09002|COLISAO DE VEICUL...|        1|BOM            |            1|ASFALTO        |          25|PAMPULHA       |POLICIA MILITAR|           Nï¿½O|                   0|0000605088.50|0007805195.43|           SIM|               Nï¿½O|        0|NÃO INFORMADO|         00/00/0000|               0|       NÃO INFORMADO|10/01/2019 08:29|           1|BELO HORIZONTE   ...|              1|        50566|            AVE|OTACILIO NEGRAO D...|                     AVE|    PAMPULHA         ...|      807|GARCAS           ...|         B | BAIRRO           ...|    12040|                0|\n",
      "|2019-001613005-001| 11/01/2019 15:40|          1|       S|             1|NAO FATAL      |   M|            SIM|          NÃO|   25|27/08/1993|                  N  | NAO INFORMADO    ...|               0|                    0|MOTOCICLETA      ...|       N|         N| 11/01/2019 15:40|11/01/2019 15:58|       H01002|ABALROAMENTO COM ...|        1|BOM            |            1|ASFALTO        |          18|BARREIRO       |POLICIA MILITAR|           Nï¿½O|                   0|0000602879.89|0007790536.40|           SIM|               Nï¿½O|        0|NÃO INFORMADO|         00/00/0000|               0|       NÃO INFORMADO|11/01/2019 15:40|           1|BELO HORIZONTE   ...|              2|        38033|            RUA|JOAQUIM DE FIGUEI...|                     RUA|    A                ...|     1491|BARREIRO         ...|         B | BAIRRO           ...|        8|                0|\n",
      "|2019-001613005-001| 11/01/2019 15:40|          1|       S|             1|NAO FATAL      |   M|            SIM|          NÃO|   25|27/08/1993|                  N  | NAO INFORMADO    ...|               0|                    0|MOTOCICLETA      ...|       N|         N| 11/01/2019 15:40|11/01/2019 15:58|       H01002|ABALROAMENTO COM ...|        1|BOM            |            1|ASFALTO        |          18|BARREIRO       |POLICIA MILITAR|           Nï¿½O|                   0|0000602879.89|0007790536.40|           SIM|               Nï¿½O|        0|NÃO INFORMADO|         00/00/0000|               0|       NÃO INFORMADO|11/01/2019 15:40|           1|BELO HORIZONTE   ...|              1|        11310|            RUA|CAETANO DE AZERED...|                     NI |    N?O INFORMADO    ...|     1491|BARREIRO         ...|         B | BAIRRO           ...|        0|                0|\n",
      "|2019-001613005-001| 11/01/2019 15:40|          2|       S|             3|SEM FERIMENTOS |   M|            SIM|          NÃO|   42|17/05/1976|                  E  | CONJ. VEICULOS AC...|               0|                    0|AUTOMOVEL        ...|       N|         N| 11/01/2019 15:40|11/01/2019 15:58|       H01002|ABALROAMENTO COM ...|        1|BOM            |            1|ASFALTO        |          18|BARREIRO       |POLICIA MILITAR|           Nï¿½O|                   0|0000602879.89|0007790536.40|           SIM|               Nï¿½O|        0|NÃO INFORMADO|         00/00/0000|               0|       NÃO INFORMADO|11/01/2019 15:40|           1|BELO HORIZONTE   ...|              2|        38033|            RUA|JOAQUIM DE FIGUEI...|                     RUA|    A                ...|     1491|BARREIRO         ...|         B | BAIRRO           ...|        8|                0|\n",
      "|2019-001613005-001| 11/01/2019 15:40|          2|       S|             3|SEM FERIMENTOS |   M|            SIM|          NÃO|   42|17/05/1976|                  E  | CONJ. VEICULOS AC...|               0|                    0|AUTOMOVEL        ...|       N|         N| 11/01/2019 15:40|11/01/2019 15:58|       H01002|ABALROAMENTO COM ...|        1|BOM            |            1|ASFALTO        |          18|BARREIRO       |POLICIA MILITAR|           Nï¿½O|                   0|0000602879.89|0007790536.40|           SIM|               Nï¿½O|        0|NÃO INFORMADO|         00/00/0000|               0|       NÃO INFORMADO|11/01/2019 15:40|           1|BELO HORIZONTE   ...|              1|        11310|            RUA|CAETANO DE AZERED...|                     NI |    N?O INFORMADO    ...|     1491|BARREIRO         ...|         B | BAIRRO           ...|        0|                0|\n",
      "|2019-001633376-001| 11/01/2019 17:38|          1|       S|             3|SEM FERIMENTOS |   M|            SIM|          NÃO|   49|21/09/1969|                  AB | HABILITADO NAS CA...|               0|                    0|CAMINHONETE      ...|       N|         N| 11/01/2019 17:38|11/01/2019 17:41|       H01002|ABALROAMENTO COM ...|        0|NAO INFORMADO  |            0|NAO INFORMADO  |          23|NORTE          |POLICIA MILITAR|           Nï¿½O|                   0|0000611517.54|0007806520.89|           SIM|               Nï¿½O|        0|NÃO INFORMADO|         00/00/0000|               0|       NÃO INFORMADO|11/01/2019 17:38|           1|BELO HORIZONTE   ...|              1|       303112|            AVE|GASTAO DEMETRIO M...|                     AVE|    B                ...|     1065|JARDIM GUANABARA ...|         B | BAIRRO           ...|     1705|                0|\n",
      "|2019-001633376-001| 11/01/2019 17:38|          2|       N|             1|NAO FATAL      |   F|            SIM|          NÃO|   35|23/08/1983|                     |                  ...|               0|                    0|MOTOCICLETA      ...|       N|         S| 11/01/2019 17:38|11/01/2019 17:41|       H01002|ABALROAMENTO COM ...|        0|NAO INFORMADO  |            0|NAO INFORMADO  |          23|NORTE          |POLICIA MILITAR|           Nï¿½O|                   0|0000611517.54|0007806520.89|           SIM|               Nï¿½O|        0|NÃO INFORMADO|         00/00/0000|               0|       NÃO INFORMADO|11/01/2019 17:38|           1|BELO HORIZONTE   ...|              1|       303112|            AVE|GASTAO DEMETRIO M...|                     AVE|    B                ...|     1065|JARDIM GUANABARA ...|         B | BAIRRO           ...|     1705|                0|\n",
      "|2019-001633376-001| 11/01/2019 17:38|          3|       S|             0|NAO INFORMADO  |   M|            NÃO|NÃO INFORMADO|    0|00/00/0000|                  N  | NAO INFORMADO    ...|               0|                    0|MOTOCICLETA      ...|    null|      null| 11/01/2019 17:38|11/01/2019 17:41|       H01002|ABALROAMENTO COM ...|        0|NAO INFORMADO  |            0|NAO INFORMADO  |          23|NORTE          |POLICIA MILITAR|           Nï¿½O|                   0|0000611517.54|0007806520.89|           SIM|               Nï¿½O|        0|NÃO INFORMADO|         00/00/0000|               0|       NÃO INFORMADO|11/01/2019 17:38|           1|BELO HORIZONTE   ...|              1|       303112|            AVE|GASTAO DEMETRIO M...|                     AVE|    B                ...|     1065|JARDIM GUANABARA ...|         B | BAIRRO           ...|     1705|                0|\n",
      "|2019-002486161-001| 17/01/2019 08:46|          2|       S|             3|SEM FERIMENTOS |   M|            SIM|          NÃO|   47|19/04/1971|                  D  | VEIC. MOTOR. P/ T...|               0|                    0|AUTOMOVEL        ...|       N|         N| 17/01/2019 08:46|17/01/2019 09:10|       H08002|CHOQUE MECANICO C...|        1|BOM            |            1|ASFALTO        |          25|PAMPULHA       |POLICIA MILITAR|           Nï¿½O|                   0|0000605369.68|0007806578.25|           SIM|               Nï¿½O|        0|NÃO INFORMADO|         00/00/0000|               0|       NÃO INFORMADO|17/01/2019 08:46|           1|BELO HORIZONTE   ...|              1|        55093|            AVE|PRESIDENTE       ...|                     NI |    N?O INFORMADO    ...|      828|COPACABANA       ...|         B | BAIRRO           ...|        0|                0|\n",
      "|2019-002486161-001| 17/01/2019 08:46|          2|       S|             3|SEM FERIMENTOS |   M|            SIM|          NÃO|   47|19/04/1971|                  D  | VEIC. MOTOR. P/ T...|               0|                    0|AUTOMOVEL        ...|       N|         N| 17/01/2019 08:46|17/01/2019 09:10|       H08002|CHOQUE MECANICO C...|        1|BOM            |            1|ASFALTO        |          25|PAMPULHA       |POLICIA MILITAR|           Nï¿½O|                   0|0000605369.68|0007806578.25|           SIM|               Nï¿½O|        0|NÃO INFORMADO|         00/00/0000|               0|       NÃO INFORMADO|17/01/2019 08:46|           1|BELO HORIZONTE   ...|              2|        70961|            RUA|UNIVERSO         ...|                     NI |    N?O INFORMADO    ...|      828|COPACABANA       ...|         B | BAIRRO           ...|        0|                0|\n",
      "|2019-002486161-001| 17/01/2019 08:46|          1|       S|             1|NAO FATAL      |   F|            SIM|          NÃO|   54|05/10/1964|                  A  | VEï¿½CULO MOTORIZ...|               0|                    0|MOTOCICLETA      ...|       N|         N| 17/01/2019 08:46|17/01/2019 09:10|       H08002|CHOQUE MECANICO C...|        1|BOM            |            1|ASFALTO        |          25|PAMPULHA       |POLICIA MILITAR|           Nï¿½O|                   0|0000605369.68|0007806578.25|           SIM|               Nï¿½O|        0|NÃO INFORMADO|         00/00/0000|               0|       NÃO INFORMADO|17/01/2019 08:46|           1|BELO HORIZONTE   ...|              1|        55093|            AVE|PRESIDENTE       ...|                     NI |    N?O INFORMADO    ...|      828|COPACABANA       ...|         B | BAIRRO           ...|        0|                0|\n",
      "|2019-002486161-001| 17/01/2019 08:46|          1|       S|             1|NAO FATAL      |   F|            SIM|          NÃO|   54|05/10/1964|                  A  | VEï¿½CULO MOTORIZ...|               0|                    0|MOTOCICLETA      ...|       N|         N| 17/01/2019 08:46|17/01/2019 09:10|       H08002|CHOQUE MECANICO C...|        1|BOM            |            1|ASFALTO        |          25|PAMPULHA       |POLICIA MILITAR|           Nï¿½O|                   0|0000605369.68|0007806578.25|           SIM|               Nï¿½O|        0|NÃO INFORMADO|         00/00/0000|               0|       NÃO INFORMADO|17/01/2019 08:46|           1|BELO HORIZONTE   ...|              2|        70961|            RUA|UNIVERSO         ...|                     NI |    N?O INFORMADO    ...|      828|COPACABANA       ...|         B | BAIRRO           ...|        0|                0|\n",
      "|2019-003186627-001| 21/01/2019 17:16|          1|       S|             3|SEM FERIMENTOS |   M|            SIM|          NÃO|   47|17/01/1972|                  D  | VEIC. MOTOR. P/ T...|               0|                    0|ONIBUS           ...|       N|         N| 21/01/2019 17:16|21/01/2019 17:52|       H04000|QUEDA DE PESSOA D...|        0|NAO INFORMADO  |            0|NAO INFORMADO  |          18|BARREIRO       |POLICIA MILITAR|           Nï¿½O|                   0|0000000000.00|0000000000.00|           SIM|               Nï¿½O|        0|NÃO INFORMADO|         00/00/0000|               0|       NÃO INFORMADO|21/01/2019 17:16|           1|BELO HORIZONTE   ...|              1|        55598|            RUA|DOUTOR CRISTIANO ...|                     EST|    DE BONSUCESSO    ...|      677|FLAVIO MARQUES LI...|         B | BAIRRO           ...|        0|                0|\n",
      "|2019-003186627-001| 21/01/2019 17:16|          2|       N|             1|NAO FATAL      |   M|            SIM|          NÃO|   67|22/03/1951|                     |                  ...|               0|                    0|ONIBUS           ...|       N|         S| 21/01/2019 17:16|21/01/2019 17:52|       H04000|QUEDA DE PESSOA D...|        0|NAO INFORMADO  |            0|NAO INFORMADO  |          18|BARREIRO       |POLICIA MILITAR|           Nï¿½O|                   0|0000000000.00|0000000000.00|           SIM|               Nï¿½O|        0|NÃO INFORMADO|         00/00/0000|               0|       NÃO INFORMADO|21/01/2019 17:16|           1|BELO HORIZONTE   ...|              1|        55598|            RUA|DOUTOR CRISTIANO ...|                     EST|    DE BONSUCESSO    ...|      677|FLAVIO MARQUES LI...|         B | BAIRRO           ...|        0|                0|\n",
      "|2019-004093567-001| 27/01/2019 10:47|          1|       S|             1|NAO FATAL      |   M|            SIM|          NÃO|   51|04/06/1967|                  A  | VEï¿½CULO MOTORIZ...|               0|                    0|MOTOCICLETA      ...|       N|         N| 27/01/2019 10:47|27/01/2019 10:57|       H08002|CHOQUE MECANICO C...|        1|BOM            |            1|ASFALTO        |          22|NOROESTE       |POLICIA MILITAR|           Nï¿½O|                   0|0000607108.72|0007797868.74|           SIM|               Nï¿½O|        0|NÃO INFORMADO|         00/00/0000|               0|       NÃO INFORMADO|27/01/2019 10:47|           1|BELO HORIZONTE   ...|              1|        53145|            AVE|DOM PEDRO II     ...|                     AVE|    CARLOS PRATES    ...|      726|MONSENHOR MESSIAS...|         B | BAIRRO           ...|     3780|                0|\n",
      "|2019-004093567-001| 27/01/2019 10:47|          2|       S|             3|SEM FERIMENTOS |   M|            SIM|          NÃO|   44|21/08/1974|                  B  | VEICULOS MOTOR. C...|               0|                    0|AUTOMOVEL        ...|       N|         N| 27/01/2019 10:47|27/01/2019 10:57|       H08002|CHOQUE MECANICO C...|        1|BOM            |            1|ASFALTO        |          22|NOROESTE       |POLICIA MILITAR|           Nï¿½O|                   0|0000607108.72|0007797868.74|           SIM|               Nï¿½O|        0|NÃO INFORMADO|         00/00/0000|               0|       NÃO INFORMADO|27/01/2019 10:47|           1|BELO HORIZONTE   ...|              1|        53145|            AVE|DOM PEDRO II     ...|                     AVE|    CARLOS PRATES    ...|      726|MONSENHOR MESSIAS...|         B | BAIRRO           ...|     3780|                0|\n",
      "|2019-004093567-001| 27/01/2019 10:47|          3|       N|             1|NAO FATAL      |   F|            SIM|          NÃO|   50|05/08/1968|                     |                  ...|               0|                    0|MOTOCICLETA      ...|       N|         S| 27/01/2019 10:47|27/01/2019 10:57|       H08002|CHOQUE MECANICO C...|        1|BOM            |            1|ASFALTO        |          22|NOROESTE       |POLICIA MILITAR|           Nï¿½O|                   0|0000607108.72|0007797868.74|           SIM|               Nï¿½O|        0|NÃO INFORMADO|         00/00/0000|               0|       NÃO INFORMADO|27/01/2019 10:47|           1|BELO HORIZONTE   ...|              1|        53145|            AVE|DOM PEDRO II     ...|                     AVE|    CARLOS PRATES    ...|      726|MONSENHOR MESSIAS...|         B | BAIRRO           ...|     3780|                0|\n",
      "|2019-005053640-001| 01/02/2019 23:14|          1|       S|             1|NAO FATAL      |   M|            SIM|          NÃO|   26|29/02/1992|                  AD | HABILITADO NAS CA...|               0|                    0|MOTOCICLETA      ...|       N|         N| 01/02/2019 23:14|01/02/2019 23:39|       H09002|COLISAO DE VEICUL...|        1|BOM            |            1|ASFALTO        |          18|BARREIRO       |POLICIA MILITAR|           Nï¿½O|                   0|0000603066.66|0007791288.18|           SIM|               Nï¿½O|        0|NÃO INFORMADO|         00/00/0000|               0|       NÃO INFORMADO|01/02/2019 23:14|           1|BELO HORIZONTE   ...|              1|        49847|            AVE|OLINTO MEIRELES  ...|                     NI |    N?O INFORMADO    ...|     1491|BARREIRO         ...|         B | BAIRRO           ...|       38|                0|\n",
      "|2019-005053640-001| 01/02/2019 23:14|          2|       S|             3|SEM FERIMENTOS |   M|            SIM|          NÃO|   20|06/05/1998|                  A  | VEï¿½CULO MOTORIZ...|               0|                    0|MOTOCICLETA      ...|       N|         N| 01/02/2019 23:14|01/02/2019 23:39|       H09002|COLISAO DE VEICUL...|        1|BOM            |            1|ASFALTO        |          18|BARREIRO       |POLICIA MILITAR|           Nï¿½O|                   0|0000603066.66|0007791288.18|           SIM|               Nï¿½O|        0|NÃO INFORMADO|         00/00/0000|               0|       NÃO INFORMADO|01/02/2019 23:14|           1|BELO HORIZONTE   ...|              1|        49847|            AVE|OLINTO MEIRELES  ...|                     NI |    N?O INFORMADO    ...|     1491|BARREIRO         ...|         B | BAIRRO           ...|       38|                0|\n",
      "+------------------+-----------------+-----------+--------+--------------+---------------+----+---------------+-------------+-----+----------+---------------------+---------------------+----------------+---------------------+--------------------+--------+----------+-----------------+----------------+-------------+--------------------+---------+---------------+-------------+---------------+------------+---------------+---------------+----------------+--------------------+-------------+-------------+--------------+--------------------+---------+-------------+-------------------+----------------+--------------------+----------------+------------+--------------------+---------------+-------------+---------------+--------------------+------------------------+------------------------+---------+--------------------+-----------+---------------------+---------+-----------------+\n",
      "only showing top 20 rows\n",
      "\n"
     ]
    }
   ],
   "source": [
    "#Join entre todos os objetos\n",
    "dfjoin = df_si_env.join(df_si_bol.join(df_si_log, on='num_boletim', how='left'), on='num_boletim', how='left')\n",
    "\n",
    "#Importa a function\n",
    "import pyspark.sql.functions as F\n",
    "\n",
    "#Exibe o Join \n",
    "dfjoin.show()"
   ]
  },
  {
   "cell_type": "code",
   "execution_count": 22,
   "metadata": {},
   "outputs": [
    {
     "name": "stdout",
     "output_type": "stream",
     "text": [
      "+--------------------+----------------------+\n",
      "|         nome_bairro|TotalAcidenteComVitima|\n",
      "+--------------------+----------------------+\n",
      "|SANTO ANTONIO    ...|                     2|\n",
      "|PAQUETA          ...|                     1|\n",
      "|LOURDES          ...|                    11|\n",
      "|SION             ...|                     1|\n",
      "|HELIOPOLIS       ...|                     8|\n",
      "|SILVEIRA         ...|                     5|\n",
      "|DOM SILVERIO     ...|                     1|\n",
      "|CAICARAS         ...|                     1|\n",
      "|IPIRANGA         ...|                     3|\n",
      "|SANTO ANDRE      ...|                     2|\n",
      "|SANTA HELENA     ...|                     2|\n",
      "|JARDIM LEBLON    ...|                     1|\n",
      "|SAO GABRIEL      ...|                     3|\n",
      "|JOAO PINHEIRO    ...|                     1|\n",
      "|SAO GERALDO      ...|                     2|\n",
      "|JARDIM AMERICA   ...|                     4|\n",
      "|LETICIA          ...|                     3|\n",
      "|SANTA BRANCA     ...|                     4|\n",
      "|SANTA TEREZA     ...|                     3|\n",
      "|PONGELUPE        ...|                     1|\n",
      "+--------------------+----------------------+\n",
      "only showing top 20 rows\n",
      "\n"
     ]
    }
   ],
   "source": [
    "# 1) Total de acidentes com vítima por bairro em acidentes com embriaguez;\n",
    "\n",
    "#Efetua o filtro e o agrupamento.\n",
    "dfFiltroAgrupado = dfjoin.filter((dfjoin.Embreagues == 'SIM') & ((dfjoin.DESC_TIPO_ACIDENTE.like('%COM VITIMA%')) | dfjoin.DESC_TIPO_ACIDENTE.like('%C/ VITIMA%'))).groupby('nome_bairro')\n",
    "\n",
    "#Calcula o resultado\n",
    "dfResultado = dfFiltroAgrupado.agg(F.count('*').alias('TotalAcidenteComVitima'))\n",
    "\n",
    "#xibe o Resultado\n",
    "dfResultado.show()"
   ]
  },
  {
   "cell_type": "code",
   "execution_count": 23,
   "metadata": {},
   "outputs": [
    {
     "name": "stdout",
     "output_type": "stream",
     "text": [
      "+---------------+---------------+--------------+\n",
      "|      PAVIMENTO|     DESC_TEMPO|TotalAcidentes|\n",
      "+---------------+---------------+--------------+\n",
      "|CALCAMENTO     |CHUVA          |            14|\n",
      "|CALCAMENTO     |NAO INFORMADO  |             4|\n",
      "|NAO INFORMADO  |NAO INFORMADO  |         18884|\n",
      "|NAO INFORMADO  |NUBLADO        |             4|\n",
      "|CONCRETO       |NUBLADO        |            52|\n",
      "|ASFALTO        |BOM            |         16535|\n",
      "|NAO INFORMADO  |CHUVA          |            16|\n",
      "|TERRA          |BOM            |             3|\n",
      "|ASFALTO        |NEBLINA        |            19|\n",
      "|CONCRETO       |BOM            |           129|\n",
      "|CALCAMENTO     |NUBLADO        |             7|\n",
      "|ASFALTO        |CHUVA          |          1358|\n",
      "|CALCAMENTO     |BOM            |           109|\n",
      "|NAO INFORMADO  |BOM            |           124|\n",
      "|TERRA          |NUBLADO        |             2|\n",
      "|CONCRETO       |CHUVA          |             6|\n",
      "|ASFALTO        |NUBLADO        |           825|\n",
      "|ASFALTO        |NAO INFORMADO  |           336|\n",
      "|CONCRETO       |NAO INFORMADO  |             4|\n",
      "+---------------+---------------+--------------+\n",
      "\n"
     ]
    }
   ],
   "source": [
    "#2) Total de acidentes por tipo de pavimento e condição do tempo;\n",
    "\n",
    "#Executa o Groupby, calcula e já exibe\n",
    "dfjoin.groupby('PAVIMENTO', 'DESC_TEMPO').agg(F.count('*').alias('TotalAcidentes')).show()\n"
   ]
  },
  {
   "cell_type": "code",
   "execution_count": 24,
   "metadata": {},
   "outputs": [
    {
     "name": "stdout",
     "output_type": "stream",
     "text": [
      "+---------------+--------------------+----------------------+-------------+\n",
      "|      PAVIMENTO|     especie_veiculo|TotalPessoasEnvolvidas|TotalAcidente|\n",
      "+---------------+--------------------+----------------------+-------------+\n",
      "|CALCAMENTO     |CAMINHAO         ...|                   3.0|            1|\n",
      "|CONCRETO       |MOTONETA         ...|                   4.0|            3|\n",
      "|NAO INFORMADO  |TRACAO           ...|                   2.0|            1|\n",
      "|CALCAMENTO     |                 ...|                  15.0|            7|\n",
      "|NAO INFORMADO  |REBOQUE E SEMI-RE...|                   6.0|            4|\n",
      "|NAO INFORMADO  |AUTOMOVEL        ...|               13659.0|         7777|\n",
      "|CALCAMENTO     |CAMINHONETE      ...|                   2.0|            2|\n",
      "|NAO INFORMADO  |CICLOMOTOR       ...|                   4.0|            4|\n",
      "|NAO INFORMADO  |MOTONETA         ...|                 146.0|          107|\n",
      "|ASFALTO        |MOTOCICLETA      ...|               11479.0|         6847|\n",
      "|ASFALTO        |MOTONETA         ...|                 147.0|           92|\n",
      "|ASFALTO        |TRATOR DE RODAS  ...|                   6.0|            4|\n",
      "|CONCRETO       |MOTOCICLETA      ...|                 130.0|           75|\n",
      "|NAO INFORMADO  |CAMINHAO-TRATOR  ...|                  11.0|            7|\n",
      "|NAO INFORMADO  |CAMIONETA        ...|                 232.0|          128|\n",
      "|CONCRETO       |CAMINHONETE      ...|                  14.0|            5|\n",
      "|ASFALTO        |                 ...|                1697.0|          905|\n",
      "|NAO INFORMADO  |TAXI             ...|                   3.0|            1|\n",
      "|ASFALTO        |CAMINHAO         ...|                 592.0|          279|\n",
      "|NAO INFORMADO  |BICICLETA        ...|                 573.0|          331|\n",
      "+---------------+--------------------+----------------------+-------------+\n",
      "only showing top 20 rows\n",
      "\n"
     ]
    }
   ],
   "source": [
    "#3) Total de pessoas acidentadas por tipo de veiculo e tipo de pavimentação;\n",
    "\n",
    "#Efetua o agrupamento.\n",
    "dfAgrupado = dfjoin.groupby('PAVIMENTO', 'especie_veiculo')\n",
    "\n",
    "#Calcula o resultado e já exibe\n",
    "dfAgrupado.agg(F.sum('n_envolvido').alias('TotalPessoasEnvolvidas'),F.count('*').alias('TotalAcidente')).show()"
   ]
  },
  {
   "cell_type": "code",
   "execution_count": 25,
   "metadata": {},
   "outputs": [
    {
     "name": "stdout",
     "output_type": "stream",
     "text": [
      "+--------------------+-------------+--------------------+-----------------+\n",
      "|     especie_veiculo|TIPO_ACIDENTE|  DESC_TIPO_ACIDENTE|      media_idade|\n",
      "+--------------------+-------------+--------------------+-----------------+\n",
      "|CAMIONETA        ...|       H01002|ABALROAMENTO COM ...|38.40127388535032|\n",
      "|TRICICLO         ...|       H01002|ABALROAMENTO COM ...|             14.5|\n",
      "|CAMINHONETE      ...|       H06001|ATROPELAMENTO DE ...|             24.0|\n",
      "|MOTOCICLETA      ...|       H01002|ABALROAMENTO COM ...|30.32597437994004|\n",
      "|MOTONETA         ...|       H07002|ATROPELAMENTO DE ...|             24.0|\n",
      "|TAXI             ...|       H01002|ABALROAMENTO COM ...|              0.0|\n",
      "|MOTOCICLETA      ...|       H02001|CAPOTAMENTO/TOMBA...|             19.0|\n",
      "|BICICLETA        ...|       H07002|ATROPELAMENTO DE ...|             46.0|\n",
      "|MICROONIBUS      ...|       H04000|QUEDA DE PESSOA D...|             45.8|\n",
      "|TRICICLO         ...|       H08002|CHOQUE MECANICO C...|             46.0|\n",
      "|NAO INFORMADO    ...|       H08002|CHOQUE MECANICO C...|          10.6875|\n",
      "|MICROONIBUS      ...|       H08002|CHOQUE MECANICO C...|            42.05|\n",
      "|CARRO DE MAO     ...|       H01002|ABALROAMENTO COM ...|19.88888888888889|\n",
      "|MICROONIBUS      ...|       H02002|CAPOTAMENTO/TOMBA...|             38.0|\n",
      "|CARROCA          ...|       H08002|CHOQUE MECANICO C...|             43.0|\n",
      "|CARROCA          ...|       H06002|ATROPELAMENTO DE ...|              0.0|\n",
      "|CAMINHAO-TRATOR  ...|       H01002|ABALROAMENTO COM ...|           39.375|\n",
      "|CAMINHAO         ...|       H04000|QUEDA DE PESSOA D...|             19.0|\n",
      "|TRATOR DE RODAS  ...|       H01002|ABALROAMENTO COM ...|             33.0|\n",
      "|CAMINHONETE      ...|       H01002|ABALROAMENTO COM ...|39.53975903614458|\n",
      "+--------------------+-------------+--------------------+-----------------+\n",
      "only showing top 20 rows\n",
      "\n"
     ]
    }
   ],
   "source": [
    "#4) Média de idade dos condutores por tipo de veículo e tipo de acidente;\n",
    "\n",
    "#Efetua o filtro e o agrupamento.\n",
    "dfAgrupado = dfjoin.filter(dfjoin.condutor == 'S').groupby('especie_veiculo', 'TIPO_ACIDENTE', 'DESC_TIPO_ACIDENTE')\n",
    "\n",
    "#Efetua calculo\n",
    "dfAgrupado.agg(F.avg('Idade').alias('media_idade')).show()"
   ]
  },
  {
   "cell_type": "code",
   "execution_count": 26,
   "metadata": {},
   "outputs": [
    {
     "name": "stdout",
     "output_type": "stream",
     "text": [
      "+-------------+------------------+\n",
      "|   Embreagues|       media_idade|\n",
      "+-------------+------------------+\n",
      "|          NÃO| 36.90902907668764|\n",
      "|          SIM|  36.5187969924812|\n",
      "|NÃO INFORMADO|0.9450499545867393|\n",
      "+-------------+------------------+\n",
      "\n"
     ]
    }
   ],
   "source": [
    "#5) Média de idade dos condutores por indicativo de embriaguez;\n",
    "\n",
    "#Efetua o filtro e o agrupamento.\n",
    "dfAgrupado = dfjoin.filter(dfjoin.condutor == 'S').groupby('Embreagues')\n",
    "#Efetua calculo\n",
    "dfAgrupado.agg(F.avg('Idade').alias('media_idade')).show()"
   ]
  },
  {
   "cell_type": "code",
   "execution_count": null,
   "metadata": {},
   "outputs": [],
   "source": []
  }
 ],
 "metadata": {
  "kernelspec": {
   "display_name": "Python 2",
   "language": "python",
   "name": "python2"
  },
  "language_info": {
   "codemirror_mode": {
    "name": "ipython",
    "version": 2
   },
   "file_extension": ".py",
   "mimetype": "text/x-python",
   "name": "python",
   "nbconvert_exporter": "python",
   "pygments_lexer": "ipython2",
   "version": "2.7.12"
  }
 },
 "nbformat": 4,
 "nbformat_minor": 2
}
